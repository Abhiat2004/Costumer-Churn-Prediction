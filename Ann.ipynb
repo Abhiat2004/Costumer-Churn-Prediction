{
 "cells": [
  {
   "cell_type": "code",
   "execution_count": 89,
   "metadata": {},
   "outputs": [],
   "source": [
    "import numpy as np\n",
    "import pandas as pd"
   ]
  },
  {
   "cell_type": "code",
   "execution_count": 90,
   "metadata": {},
   "outputs": [],
   "source": [
    "import tensorflow as tf"
   ]
  },
  {
   "cell_type": "code",
   "execution_count": 91,
   "metadata": {},
   "outputs": [
    {
     "data": {
      "text/plain": [
       "'2.14.0'"
      ]
     },
     "execution_count": 91,
     "metadata": {},
     "output_type": "execute_result"
    }
   ],
   "source": [
    "tf.__version__"
   ]
  },
  {
   "cell_type": "code",
   "execution_count": 92,
   "metadata": {},
   "outputs": [
    {
     "data": {
      "text/plain": [
       "customerID          0\n",
       "gender              0\n",
       "SeniorCitizen       0\n",
       "Partner             0\n",
       "Dependents          0\n",
       "tenure              0\n",
       "PhoneService        0\n",
       "MultipleLines       0\n",
       "InternetService     0\n",
       "OnlineSecurity      0\n",
       "OnlineBackup        0\n",
       "DeviceProtection    0\n",
       "TechSupport         0\n",
       "StreamingTV         0\n",
       "StreamingMovies     0\n",
       "Contract            0\n",
       "PaperlessBilling    0\n",
       "PaymentMethod       0\n",
       "MonthlyCharges      0\n",
       "TotalCharges        0\n",
       "Churn               0\n",
       "dtype: int64"
      ]
     },
     "execution_count": 92,
     "metadata": {},
     "output_type": "execute_result"
    }
   ],
   "source": [
    "data=pd.read_csv(\"Churn.csv\")\n",
    "data.isnull().sum()"
   ]
  },
  {
   "cell_type": "code",
   "execution_count": 93,
   "metadata": {},
   "outputs": [
    {
     "data": {
      "text/plain": [
       "customerID          7043\n",
       "gender              7043\n",
       "SeniorCitizen          0\n",
       "Partner             7043\n",
       "Dependents          7043\n",
       "tenure                 0\n",
       "PhoneService        7043\n",
       "MultipleLines       7043\n",
       "InternetService     7043\n",
       "OnlineSecurity      7043\n",
       "OnlineBackup        7043\n",
       "DeviceProtection    7043\n",
       "TechSupport         7043\n",
       "StreamingTV         7043\n",
       "StreamingMovies     7043\n",
       "Contract            7043\n",
       "PaperlessBilling    7043\n",
       "PaymentMethod       7043\n",
       "MonthlyCharges         0\n",
       "TotalCharges        7043\n",
       "Churn               7043\n",
       "dtype: int64"
      ]
     },
     "execution_count": 93,
     "metadata": {},
     "output_type": "execute_result"
    }
   ],
   "source": [
    "data.applymap(lambda x: isinstance(x, str)).sum()"
   ]
  },
  {
   "cell_type": "code",
   "execution_count": 94,
   "metadata": {},
   "outputs": [
    {
     "name": "stdout",
     "output_type": "stream",
     "text": [
      "      customerID  gender  SeniorCitizen Partner Dependents  tenure  \\\n",
      "0     7590-VHVEG  Female              0     Yes         No       1   \n",
      "1     5575-GNVDE    Male              0      No         No      34   \n",
      "2     3668-QPYBK    Male              0      No         No       2   \n",
      "3     7795-CFOCW    Male              0      No         No      45   \n",
      "4     9237-HQITU  Female              0      No         No       2   \n",
      "...          ...     ...            ...     ...        ...     ...   \n",
      "7038  6840-RESVB    Male              0     Yes        Yes      24   \n",
      "7039  2234-XADUH  Female              0     Yes        Yes      72   \n",
      "7040  4801-JZAZL  Female              0     Yes        Yes      11   \n",
      "7041  8361-LTMKD    Male              1     Yes         No       4   \n",
      "7042  3186-AJIEK    Male              0      No         No      66   \n",
      "\n",
      "     PhoneService     MultipleLines InternetService OnlineSecurity  ...  \\\n",
      "0              No  No phone service             DSL             No  ...   \n",
      "1             Yes                No             DSL            Yes  ...   \n",
      "2             Yes                No             DSL            Yes  ...   \n",
      "3              No  No phone service             DSL            Yes  ...   \n",
      "4             Yes                No     Fiber optic             No  ...   \n",
      "...           ...               ...             ...            ...  ...   \n",
      "7038          Yes               Yes             DSL            Yes  ...   \n",
      "7039          Yes               Yes     Fiber optic             No  ...   \n",
      "7040           No  No phone service             DSL            Yes  ...   \n",
      "7041          Yes               Yes     Fiber optic             No  ...   \n",
      "7042          Yes                No     Fiber optic            Yes  ...   \n",
      "\n",
      "     DeviceProtection TechSupport StreamingTV StreamingMovies        Contract  \\\n",
      "0                  No          No          No              No  Month-to-month   \n",
      "1                 Yes          No          No              No        One year   \n",
      "2                  No          No          No              No  Month-to-month   \n",
      "3                 Yes         Yes          No              No        One year   \n",
      "4                  No          No          No              No  Month-to-month   \n",
      "...               ...         ...         ...             ...             ...   \n",
      "7038              Yes         Yes         Yes             Yes        One year   \n",
      "7039              Yes          No         Yes             Yes        One year   \n",
      "7040               No          No          No              No  Month-to-month   \n",
      "7041               No          No          No              No  Month-to-month   \n",
      "7042              Yes         Yes         Yes             Yes        Two year   \n",
      "\n",
      "     PaperlessBilling              PaymentMethod MonthlyCharges  TotalCharges  \\\n",
      "0                 Yes           Electronic check          29.85         29.85   \n",
      "1                  No               Mailed check          56.95        1889.5   \n",
      "2                 Yes               Mailed check          53.85        108.15   \n",
      "3                  No  Bank transfer (automatic)          42.30       1840.75   \n",
      "4                 Yes           Electronic check          70.70        151.65   \n",
      "...               ...                        ...            ...           ...   \n",
      "7038              Yes               Mailed check          84.80        1990.5   \n",
      "7039              Yes    Credit card (automatic)         103.20        7362.9   \n",
      "7040              Yes           Electronic check          29.60        346.45   \n",
      "7041              Yes               Mailed check          74.40         306.6   \n",
      "7042              Yes  Bank transfer (automatic)         105.65        6844.5   \n",
      "\n",
      "     Churn  \n",
      "0       No  \n",
      "1       No  \n",
      "2      Yes  \n",
      "3       No  \n",
      "4      Yes  \n",
      "...    ...  \n",
      "7038    No  \n",
      "7039    No  \n",
      "7040    No  \n",
      "7041   Yes  \n",
      "7042    No  \n",
      "\n",
      "[7043 rows x 21 columns]\n"
     ]
    }
   ],
   "source": [
    "print(data)"
   ]
  },
  {
   "cell_type": "code",
   "execution_count": 96,
   "metadata": {},
   "outputs": [
    {
     "name": "stdout",
     "output_type": "stream",
     "text": [
      "[['Female' 0 'Yes' ... 'Electronic check' 29.85 '29.85']\n",
      " ['Male' 0 'No' ... 'Mailed check' 56.95 '1889.5']\n",
      " ['Male' 0 'No' ... 'Mailed check' 53.85 '108.15']\n",
      " ...\n",
      " ['Female' 0 'Yes' ... 'Electronic check' 29.6 '346.45']\n",
      " ['Male' 1 'Yes' ... 'Mailed check' 74.4 '306.6']\n",
      " ['Male' 0 'No' ... 'Bank transfer (automatic)' 105.65 '6844.5']]\n"
     ]
    }
   ],
   "source": [
    "print(x)"
   ]
  },
  {
   "cell_type": "code",
   "execution_count": 97,
   "metadata": {},
   "outputs": [],
   "source": [
    "from sklearn.preprocessing import LabelEncoder\n",
    "l = LabelEncoder()"
   ]
  },
  {
   "cell_type": "code",
   "execution_count": 98,
   "metadata": {},
   "outputs": [],
   "source": [
    "list=[0,2,3,5,6,7,8,9,10,11,12,13,14,15,16,18]\n",
    "for i in list:\n",
    "    x[:,i]=l.fit_transform(x[:,i])"
   ]
  },
  {
   "cell_type": "code",
   "execution_count": 99,
   "metadata": {},
   "outputs": [
    {
     "name": "stdout",
     "output_type": "stream",
     "text": [
      "[29.85 56.95 53.85 42.3 70.7 99.65]\n"
     ]
    }
   ],
   "source": [
    "print(x[0:6,17])"
   ]
  },
  {
   "cell_type": "code",
   "execution_count": 100,
   "metadata": {},
   "outputs": [
    {
     "name": "stdout",
     "output_type": "stream",
     "text": [
      "[[0 0 1 ... 2 29.85 2505]\n",
      " [1 0 0 ... 3 56.95 1466]\n",
      " [1 0 0 ... 3 53.85 157]\n",
      " ...\n",
      " [0 0 1 ... 2 29.6 2994]\n",
      " [1 1 1 ... 3 74.4 2660]\n",
      " [1 0 0 ... 0 105.65 5407]]\n"
     ]
    }
   ],
   "source": [
    "print(x)"
   ]
  },
  {
   "cell_type": "code",
   "execution_count": 101,
   "metadata": {},
   "outputs": [],
   "source": [
    "y=data.iloc[:,20].values\n",
    "y[:]=l.fit_transform(y[:])"
   ]
  },
  {
   "cell_type": "code",
   "execution_count": 102,
   "metadata": {},
   "outputs": [
    {
     "name": "stdout",
     "output_type": "stream",
     "text": [
      "[0 0 1 ... 0 1 0]\n"
     ]
    }
   ],
   "source": [
    "print(y)"
   ]
  },
  {
   "cell_type": "code",
   "execution_count": 103,
   "metadata": {},
   "outputs": [
    {
     "data": {
      "text/plain": [
       "array([], shape=(0, 2), dtype=int64)"
      ]
     },
     "execution_count": 103,
     "metadata": {},
     "output_type": "execute_result"
    }
   ],
   "source": [
    "np.argwhere(np.vectorize(isinstance)(x, str))"
   ]
  },
  {
   "cell_type": "code",
   "execution_count": 104,
   "metadata": {},
   "outputs": [],
   "source": [
    "from sklearn.model_selection import train_test_split\n",
    "x_train, x_test, y_train, y_test = train_test_split(x, y, test_size = 0.2, random_state = 0)"
   ]
  },
  {
   "cell_type": "code",
   "execution_count": 105,
   "metadata": {},
   "outputs": [],
   "source": [
    "from sklearn.preprocessing import StandardScaler\n",
    "sc = StandardScaler()\n",
    "x_train = sc.fit_transform(x_train)\n",
    "x_test = sc.transform(x_test)"
   ]
  },
  {
   "cell_type": "code",
   "execution_count": 106,
   "metadata": {},
   "outputs": [],
   "source": [
    "ann = tf.keras.models.Sequential()"
   ]
  },
  {
   "cell_type": "code",
   "execution_count": 107,
   "metadata": {},
   "outputs": [],
   "source": [
    "ann.add(tf.keras.layers.Dense(units=12, activation='relu'))"
   ]
  },
  {
   "cell_type": "code",
   "execution_count": 108,
   "metadata": {},
   "outputs": [],
   "source": [
    "ann.add(tf.keras.layers.Dense(units=12, activation='relu'))"
   ]
  },
  {
   "cell_type": "code",
   "execution_count": 109,
   "metadata": {},
   "outputs": [],
   "source": [
    "ann.add(tf.keras.layers.Dense(units=1, activation='sigmoid'))"
   ]
  },
  {
   "cell_type": "code",
   "execution_count": 110,
   "metadata": {},
   "outputs": [],
   "source": [
    "ann.compile(optimizer = 'adam', loss = 'binary_crossentropy', metrics = ['accuracy'])"
   ]
  },
  {
   "cell_type": "code",
   "execution_count": 112,
   "metadata": {},
   "outputs": [
    {
     "name": "stdout",
     "output_type": "stream",
     "text": [
      "Epoch 1/100\n"
     ]
    },
    {
     "name": "stdout",
     "output_type": "stream",
     "text": [
      "177/177 [==============================] - 4s 6ms/step - loss: 0.5112 - accuracy: 0.7410\n",
      "Epoch 2/100\n",
      "177/177 [==============================] - 1s 7ms/step - loss: 0.4524 - accuracy: 0.7737\n",
      "Epoch 3/100\n",
      "177/177 [==============================] - 1s 6ms/step - loss: 0.4394 - accuracy: 0.7794\n",
      "Epoch 4/100\n",
      "177/177 [==============================] - 1s 6ms/step - loss: 0.4311 - accuracy: 0.7847\n",
      "Epoch 5/100\n",
      "177/177 [==============================] - 1s 6ms/step - loss: 0.4252 - accuracy: 0.7897\n",
      "Epoch 6/100\n",
      "177/177 [==============================] - 1s 6ms/step - loss: 0.4212 - accuracy: 0.7939\n",
      "Epoch 7/100\n",
      "177/177 [==============================] - 1s 6ms/step - loss: 0.4175 - accuracy: 0.7961\n",
      "Epoch 8/100\n",
      "177/177 [==============================] - 1s 7ms/step - loss: 0.4149 - accuracy: 0.7987\n",
      "Epoch 9/100\n",
      "177/177 [==============================] - 1s 6ms/step - loss: 0.4122 - accuracy: 0.7998\n",
      "Epoch 10/100\n",
      "177/177 [==============================] - 1s 6ms/step - loss: 0.4102 - accuracy: 0.8037\n",
      "Epoch 11/100\n",
      "177/177 [==============================] - 1s 6ms/step - loss: 0.4086 - accuracy: 0.8039\n",
      "Epoch 12/100\n",
      "177/177 [==============================] - 1s 6ms/step - loss: 0.4069 - accuracy: 0.8042\n",
      "Epoch 13/100\n",
      "177/177 [==============================] - 1s 6ms/step - loss: 0.4058 - accuracy: 0.8037\n",
      "Epoch 14/100\n",
      "177/177 [==============================] - 1s 6ms/step - loss: 0.4041 - accuracy: 0.8064\n",
      "Epoch 15/100\n",
      "177/177 [==============================] - 1s 6ms/step - loss: 0.4028 - accuracy: 0.8078\n",
      "Epoch 16/100\n",
      "177/177 [==============================] - 1s 6ms/step - loss: 0.4017 - accuracy: 0.8083\n",
      "Epoch 17/100\n",
      "177/177 [==============================] - 1s 6ms/step - loss: 0.4005 - accuracy: 0.8080\n",
      "Epoch 18/100\n",
      "177/177 [==============================] - 1s 6ms/step - loss: 0.3998 - accuracy: 0.8094\n",
      "Epoch 19/100\n",
      "177/177 [==============================] - 1s 6ms/step - loss: 0.3987 - accuracy: 0.8095\n",
      "Epoch 20/100\n",
      "177/177 [==============================] - 1s 6ms/step - loss: 0.3982 - accuracy: 0.8080\n",
      "Epoch 21/100\n",
      "177/177 [==============================] - 1s 6ms/step - loss: 0.3974 - accuracy: 0.8095\n",
      "Epoch 22/100\n",
      "177/177 [==============================] - 1s 6ms/step - loss: 0.3963 - accuracy: 0.8097\n",
      "Epoch 23/100\n",
      "177/177 [==============================] - 1s 6ms/step - loss: 0.3958 - accuracy: 0.8135\n",
      "Epoch 24/100\n",
      "177/177 [==============================] - 1s 6ms/step - loss: 0.3948 - accuracy: 0.8124\n",
      "Epoch 25/100\n",
      "177/177 [==============================] - 1s 6ms/step - loss: 0.3946 - accuracy: 0.8131\n",
      "Epoch 26/100\n",
      "177/177 [==============================] - 1s 6ms/step - loss: 0.3937 - accuracy: 0.8140\n",
      "Epoch 27/100\n",
      "177/177 [==============================] - 1s 6ms/step - loss: 0.3934 - accuracy: 0.8152\n",
      "Epoch 28/100\n",
      "177/177 [==============================] - 1s 6ms/step - loss: 0.3929 - accuracy: 0.8159\n",
      "Epoch 29/100\n",
      "177/177 [==============================] - 1s 7ms/step - loss: 0.3920 - accuracy: 0.8149\n",
      "Epoch 30/100\n",
      "177/177 [==============================] - 1s 6ms/step - loss: 0.3912 - accuracy: 0.8149\n",
      "Epoch 31/100\n",
      "177/177 [==============================] - 1s 6ms/step - loss: 0.3910 - accuracy: 0.8159\n",
      "Epoch 32/100\n",
      "177/177 [==============================] - 1s 6ms/step - loss: 0.3904 - accuracy: 0.8168\n",
      "Epoch 33/100\n",
      "177/177 [==============================] - 1s 6ms/step - loss: 0.3899 - accuracy: 0.8168\n",
      "Epoch 34/100\n",
      "177/177 [==============================] - 1s 7ms/step - loss: 0.3896 - accuracy: 0.8158\n",
      "Epoch 35/100\n",
      "177/177 [==============================] - 1s 6ms/step - loss: 0.3890 - accuracy: 0.8161\n",
      "Epoch 36/100\n",
      "177/177 [==============================] - 1s 6ms/step - loss: 0.3886 - accuracy: 0.8182\n",
      "Epoch 37/100\n",
      "177/177 [==============================] - 1s 6ms/step - loss: 0.3886 - accuracy: 0.8165\n",
      "Epoch 38/100\n",
      "177/177 [==============================] - 1s 6ms/step - loss: 0.3875 - accuracy: 0.8177\n",
      "Epoch 39/100\n",
      "177/177 [==============================] - 1s 6ms/step - loss: 0.3872 - accuracy: 0.8202\n",
      "Epoch 40/100\n",
      "177/177 [==============================] - 1s 6ms/step - loss: 0.3866 - accuracy: 0.8191\n",
      "Epoch 41/100\n",
      "177/177 [==============================] - 1s 7ms/step - loss: 0.3864 - accuracy: 0.8200\n",
      "Epoch 42/100\n",
      "177/177 [==============================] - 1s 6ms/step - loss: 0.3859 - accuracy: 0.8198\n",
      "Epoch 43/100\n",
      "177/177 [==============================] - 1s 6ms/step - loss: 0.3854 - accuracy: 0.8195\n",
      "Epoch 44/100\n",
      "177/177 [==============================] - 1s 6ms/step - loss: 0.3852 - accuracy: 0.8202\n",
      "Epoch 45/100\n",
      "177/177 [==============================] - 1s 6ms/step - loss: 0.3842 - accuracy: 0.8214\n",
      "Epoch 46/100\n",
      "177/177 [==============================] - 1s 6ms/step - loss: 0.3840 - accuracy: 0.8197\n",
      "Epoch 47/100\n",
      "177/177 [==============================] - 1s 7ms/step - loss: 0.3839 - accuracy: 0.8202\n",
      "Epoch 48/100\n",
      "177/177 [==============================] - 1s 6ms/step - loss: 0.3838 - accuracy: 0.8206\n",
      "Epoch 49/100\n",
      "177/177 [==============================] - 1s 6ms/step - loss: 0.3834 - accuracy: 0.8198\n",
      "Epoch 50/100\n",
      "177/177 [==============================] - 1s 6ms/step - loss: 0.3827 - accuracy: 0.8211\n",
      "Epoch 51/100\n",
      "177/177 [==============================] - 1s 6ms/step - loss: 0.3828 - accuracy: 0.8229\n",
      "Epoch 52/100\n",
      "177/177 [==============================] - 1s 6ms/step - loss: 0.3823 - accuracy: 0.8206\n",
      "Epoch 53/100\n",
      "177/177 [==============================] - 1s 7ms/step - loss: 0.3823 - accuracy: 0.8218\n",
      "Epoch 54/100\n",
      "177/177 [==============================] - 1s 6ms/step - loss: 0.3819 - accuracy: 0.8209\n",
      "Epoch 55/100\n",
      "177/177 [==============================] - 1s 6ms/step - loss: 0.3813 - accuracy: 0.8230\n",
      "Epoch 56/100\n",
      "177/177 [==============================] - 1s 6ms/step - loss: 0.3809 - accuracy: 0.8198\n",
      "Epoch 57/100\n",
      "177/177 [==============================] - 1s 6ms/step - loss: 0.3808 - accuracy: 0.8245\n",
      "Epoch 58/100\n",
      "177/177 [==============================] - 1s 6ms/step - loss: 0.3806 - accuracy: 0.8220\n",
      "Epoch 59/100\n",
      "177/177 [==============================] - 1s 7ms/step - loss: 0.3807 - accuracy: 0.8214\n",
      "Epoch 60/100\n",
      "177/177 [==============================] - 1s 6ms/step - loss: 0.3803 - accuracy: 0.8223\n",
      "Epoch 61/100\n",
      "177/177 [==============================] - 1s 6ms/step - loss: 0.3807 - accuracy: 0.8193\n",
      "Epoch 62/100\n",
      "177/177 [==============================] - 1s 6ms/step - loss: 0.3798 - accuracy: 0.8214\n",
      "Epoch 63/100\n",
      "177/177 [==============================] - 1s 6ms/step - loss: 0.3801 - accuracy: 0.8236\n",
      "Epoch 64/100\n",
      "177/177 [==============================] - 1s 6ms/step - loss: 0.3793 - accuracy: 0.8206\n",
      "Epoch 65/100\n",
      "177/177 [==============================] - 1s 6ms/step - loss: 0.3794 - accuracy: 0.8202\n",
      "Epoch 66/100\n",
      "177/177 [==============================] - 1s 6ms/step - loss: 0.3795 - accuracy: 0.8216\n",
      "Epoch 67/100\n",
      "177/177 [==============================] - 1s 6ms/step - loss: 0.3792 - accuracy: 0.8213\n",
      "Epoch 68/100\n",
      "177/177 [==============================] - 1s 5ms/step - loss: 0.3783 - accuracy: 0.8218\n",
      "Epoch 69/100\n",
      "177/177 [==============================] - 1s 6ms/step - loss: 0.3784 - accuracy: 0.8236\n",
      "Epoch 70/100\n",
      "177/177 [==============================] - 1s 6ms/step - loss: 0.3784 - accuracy: 0.8245\n",
      "Epoch 71/100\n",
      "177/177 [==============================] - 1s 6ms/step - loss: 0.3778 - accuracy: 0.8225\n",
      "Epoch 72/100\n",
      "177/177 [==============================] - 1s 6ms/step - loss: 0.3781 - accuracy: 0.8223\n",
      "Epoch 73/100\n",
      "177/177 [==============================] - 1s 6ms/step - loss: 0.3775 - accuracy: 0.8211\n",
      "Epoch 74/100\n",
      "177/177 [==============================] - 1s 6ms/step - loss: 0.3779 - accuracy: 0.8234\n",
      "Epoch 75/100\n",
      "177/177 [==============================] - 1s 6ms/step - loss: 0.3778 - accuracy: 0.8225\n",
      "Epoch 76/100\n",
      "177/177 [==============================] - 1s 6ms/step - loss: 0.3770 - accuracy: 0.8236\n",
      "Epoch 77/100\n",
      "177/177 [==============================] - 1s 6ms/step - loss: 0.3768 - accuracy: 0.8241\n",
      "Epoch 78/100\n",
      "177/177 [==============================] - 1s 6ms/step - loss: 0.3766 - accuracy: 0.8246\n",
      "Epoch 79/100\n",
      "177/177 [==============================] - 1s 6ms/step - loss: 0.3763 - accuracy: 0.8239\n",
      "Epoch 80/100\n",
      "177/177 [==============================] - 1s 6ms/step - loss: 0.3771 - accuracy: 0.8236\n",
      "Epoch 81/100\n",
      "177/177 [==============================] - 1s 6ms/step - loss: 0.3762 - accuracy: 0.8229\n",
      "Epoch 82/100\n",
      "177/177 [==============================] - 1s 6ms/step - loss: 0.3761 - accuracy: 0.8229\n",
      "Epoch 83/100\n",
      "177/177 [==============================] - 1s 6ms/step - loss: 0.3762 - accuracy: 0.8214\n",
      "Epoch 84/100\n",
      "177/177 [==============================] - 1s 6ms/step - loss: 0.3759 - accuracy: 0.8243\n",
      "Epoch 85/100\n",
      "177/177 [==============================] - 1s 6ms/step - loss: 0.3763 - accuracy: 0.8245\n",
      "Epoch 86/100\n",
      "177/177 [==============================] - 1s 6ms/step - loss: 0.3756 - accuracy: 0.8223\n",
      "Epoch 87/100\n",
      "177/177 [==============================] - 1s 6ms/step - loss: 0.3749 - accuracy: 0.8250\n",
      "Epoch 88/100\n",
      "177/177 [==============================] - 1s 6ms/step - loss: 0.3747 - accuracy: 0.8236\n",
      "Epoch 89/100\n",
      "177/177 [==============================] - 1s 6ms/step - loss: 0.3746 - accuracy: 0.8236\n",
      "Epoch 90/100\n",
      "177/177 [==============================] - 1s 6ms/step - loss: 0.3746 - accuracy: 0.8237\n",
      "Epoch 91/100\n",
      "177/177 [==============================] - 1s 6ms/step - loss: 0.3747 - accuracy: 0.8227\n",
      "Epoch 92/100\n",
      "177/177 [==============================] - 1s 6ms/step - loss: 0.3741 - accuracy: 0.8252\n",
      "Epoch 93/100\n",
      "177/177 [==============================] - 1s 6ms/step - loss: 0.3738 - accuracy: 0.8250\n",
      "Epoch 94/100\n",
      "177/177 [==============================] - 1s 6ms/step - loss: 0.3734 - accuracy: 0.8236\n",
      "Epoch 95/100\n",
      "177/177 [==============================] - 1s 6ms/step - loss: 0.3737 - accuracy: 0.8234\n",
      "Epoch 96/100\n",
      "177/177 [==============================] - 1s 6ms/step - loss: 0.3736 - accuracy: 0.8229\n",
      "Epoch 97/100\n",
      "177/177 [==============================] - 1s 6ms/step - loss: 0.3735 - accuracy: 0.8241\n",
      "Epoch 98/100\n",
      "177/177 [==============================] - 1s 6ms/step - loss: 0.3729 - accuracy: 0.8269\n",
      "Epoch 99/100\n",
      "177/177 [==============================] - 1s 6ms/step - loss: 0.3727 - accuracy: 0.8248\n",
      "Epoch 100/100\n",
      "177/177 [==============================] - 1s 6ms/step - loss: 0.3723 - accuracy: 0.8248\n"
     ]
    },
    {
     "data": {
      "text/plain": [
       "<keras.src.callbacks.History at 0x1e35bf43090>"
      ]
     },
     "execution_count": 112,
     "metadata": {},
     "output_type": "execute_result"
    }
   ],
   "source": [
    "ann.fit(x_train, y_train, batch_size = 32, epochs = 100)"
   ]
  }
 ],
 "metadata": {
  "kernelspec": {
   "display_name": "Python 3",
   "language": "python",
   "name": "python3"
  },
  "language_info": {
   "codemirror_mode": {
    "name": "ipython",
    "version": 3
   },
   "file_extension": ".py",
   "mimetype": "text/x-python",
   "name": "python",
   "nbconvert_exporter": "python",
   "pygments_lexer": "ipython3",
   "version": "3.11.3"
  }
 },
 "nbformat": 4,
 "nbformat_minor": 2
}
